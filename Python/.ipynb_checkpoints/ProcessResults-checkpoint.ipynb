{
 "cells": [
  {
   "cell_type": "code",
   "execution_count": 5,
   "metadata": {},
   "outputs": [],
   "source": [
    "#first, import everything but the kitchen sink\n",
    "import numpy as np\n",
    "import matplotlib\n",
    "matplotlib.rcParams['text.usetex'] = True # Comment this line if no LaTeX installation is available\n",
    "matplotlib.rcParams['font.family'] = 'serif' # Comment this line if no LaTeX installation is available\n",
    "matplotlib.rcParams['text.latex.preamble']=[r'\\usepackage{amsmath}']\n",
    "import matplotlib.pyplot as plt\n",
    "import sys\n",
    "import os\n",
    "import torch; torch.set_default_dtype(torch.float64)\n",
    "\n",
    "module_path = os.path.abspath(os.path.join('..'))\n",
    "sys.path.insert(1, 'C:\\\\Users\\\\vascodebruijn\\\\Documents\\\\GitHub\\\\graph-neural-networks')\n",
    "\n",
    "if module_path not in sys.path:\n",
    "    sys.path.append(module_path+\"\\\\Python\")\n",
    "import utils\n",
    "\n",
    "#Some variables\n",
    "K= np.array([1,2,3,4,5])\n",
    "L =np.array( [1,2,3,4])\n",
    "F = np.array([1,2,4,8,16,32,64,128])\n",
    "\n",
    "Faxis = (1,2)\n",
    "Laxis = (0,2)\n",
    "Kaxis = (0,1)\n",
    "    \n",
    "#make plotting a bit more easier\n",
    "def plot_traces(data, title,labels =[],description=''):\n",
    "    if len(data) > 1:\n",
    "        data = np.transpose(data)\n",
    "    fig = plt.figure()\n",
    "    plt.plot(data)   \n",
    "    fig.suptitle(title)\n",
    "    plt.ylabel(r'Guessing Entropy')\n",
    "    plt.xlabel(r'Number of Traces')\n",
    "    plt.legend(labels)\n",
    "    plt.figtext(.01, .01,description)\n",
    "    \n",
    "\n",
    "def plot_means(data,ax,values,param,title):\n",
    "    fig = plt.figure()\n",
    "    plt.plot(np.transpose(np.nanmean(data,axis=ax)))    \n",
    "    fig.suptitle(title)\n",
    "    plt.ylabel(r'Guessing Entropy')\n",
    "    plt.xlabel(r'Number of Traces')\n",
    "    \n",
    "    labels = []\n",
    "    for val in values:\n",
    "        label = param +\"=\"+str(val)\n",
    "        labels.append(label)\n",
    "    plt.legend(labels)\n",
    "    \n",
    "#showtime\n",
    "data = utils.get_all_results()\n"
   ]
  },
  {
   "cell_type": "code",
   "execution_count": 4,
   "metadata": {},
   "outputs": [
    {
     "ename": "KeyError",
     "evalue": "'experiments\\\\hyper_param_tuning_gcnn'",
     "output_type": "error",
     "traceback": [
      "\u001b[1;31m---------------------------------------------------------------------------\u001b[0m",
      "\u001b[1;31mKeyError\u001b[0m                                  Traceback (most recent call last)",
      "\u001b[1;32m<ipython-input-4-50071b63c3cf>\u001b[0m in \u001b[0;36m<module>\u001b[1;34m\u001b[0m\n\u001b[0;32m      2\u001b[0m \u001b[1;33m\u001b[0m\u001b[0m\n\u001b[0;32m      3\u001b[0m \u001b[1;31m###GCNN\u001b[0m\u001b[1;33m\u001b[0m\u001b[1;33m\u001b[0m\u001b[1;33m\u001b[0m\u001b[0m\n\u001b[1;32m----> 4\u001b[1;33m \u001b[0mgcnn\u001b[0m\u001b[1;33m=\u001b[0m \u001b[0mdata\u001b[0m\u001b[1;33m[\u001b[0m\u001b[1;34m'experiments\\\\hyper_param_tuning_gcnn'\u001b[0m\u001b[1;33m]\u001b[0m\u001b[1;33m\u001b[0m\u001b[1;33m\u001b[0m\u001b[0m\n\u001b[0m\u001b[0;32m      5\u001b[0m \u001b[0mgcnn_data_flt\u001b[0m \u001b[1;33m=\u001b[0m \u001b[0mgcnn\u001b[0m\u001b[1;33m[\u001b[0m\u001b[1;34m'res'\u001b[0m\u001b[1;33m]\u001b[0m\u001b[1;33m\u001b[0m\u001b[1;33m\u001b[0m\u001b[0m\n\u001b[0;32m      6\u001b[0m \u001b[0mgcnn_data\u001b[0m \u001b[1;33m=\u001b[0m \u001b[0mutils\u001b[0m\u001b[1;33m.\u001b[0m\u001b[0mreshape_results\u001b[0m\u001b[1;33m(\u001b[0m\u001b[0mgcnn_data_flt\u001b[0m\u001b[1;33m,\u001b[0m\u001b[0mlen\u001b[0m\u001b[1;33m(\u001b[0m\u001b[0mF\u001b[0m\u001b[1;33m)\u001b[0m\u001b[1;33m,\u001b[0m\u001b[0mlen\u001b[0m\u001b[1;33m(\u001b[0m\u001b[0mL\u001b[0m\u001b[1;33m)\u001b[0m\u001b[1;33m,\u001b[0m\u001b[0mlen\u001b[0m\u001b[1;33m(\u001b[0m\u001b[0mK\u001b[0m\u001b[1;33m)\u001b[0m\u001b[1;33m,\u001b[0m\u001b[0mefn\u001b[0m\u001b[1;33m=\u001b[0m\u001b[1;36m1\u001b[0m\u001b[1;33m)\u001b[0m\u001b[1;33m\u001b[0m\u001b[1;33m\u001b[0m\u001b[0m\n",
      "\u001b[1;31mKeyError\u001b[0m: 'experiments\\\\hyper_param_tuning_gcnn'"
     ]
    }
   ],
   "source": [
    "###Inital Hyperparam Tuning\n",
    "\n",
    "###GCNN\n",
    "gcnn= data['experiments\\\\hyper_param_tuning_gcnn']\n",
    "gcnn_data_flt = gcnn['res']\n",
    "gcnn_data = utils.reshape_results(gcnn_data_flt,len(F),len(L),len(K),efn=1)\n",
    "gcnn_mean = np.nanmean(gcnn_data_flt, axis=1)\n",
    "gcnn_data_mean = np.nanmean(gcnn_data,axis=3)\n",
    "gcnn_best_ids = np.argsort(gcnn_mean)[0:10]\n",
    "gcnn_ids_unraveled = np.unravel_index(gcnn_best_ids, (len(F),len(L),len(K)))\n",
    "plot_traces(gcnn_data_flt[gcnn_best_ids], '10 best GCNN traces')\n",
    "gcnn_best_hp_list = np.array(gcnn['hyperparam'])[gcnn_best_ids.astype(int)].tolist()\n",
    "utils.save_hyperparamlist(gcnn_best_hp_list, 'CE_hypertuning_GCNN')\n",
    "\n",
    "###2nd Run\n",
    "gcnn_2= data['experiments\\\\hyper_param_tuning_gcnn_2']\n",
    "gcnn_2_data_flt = gcnn_2['res']\n",
    "gcnn_2_data = utils.reshape_results(gcnn_2_data_flt,len(F),len(L),len(K),efn=1)\n",
    "gcnn_2_mean = np.nanmean(gcnn_2_data_flt, axis=1)\n",
    "gcnn_2_data_mean = np.nanmean(gcnn_2_data,axis=3)\n",
    "gcnn_2_best_ids = np.argsort(gcnn_2_mean)[0:10]\n",
    "gcnn_2_ids_unraveled = np.unravel_index(gcnn_2_best_ids, (len(F),len(L),len(K)))\n",
    "plot_traces(gcnn_2_data_flt[gcnn_2_best_ids], '10 best GCNN traces')\n",
    "gcnn_2_best_hp_list = np.array(gcnn_2['hyperparam'])[gcnn_2_best_ids.astype(int)].tolist()\n",
    "utils.save_hyperparamlist(gcnn_2_best_hp_list, 'CE_hypertuning_GCNN')\n",
    "\n",
    "F_gcnn = F[gcnn_ids_unraveled[0]]\n",
    "L_gcnn =L[gcnn_ids_unraveled[1]]\n",
    "K_gcnn = K[gcnn_ids_unraveled[2]]\n"
   ]
  },
  {
   "cell_type": "code",
   "execution_count": null,
   "metadata": {},
   "outputs": [],
   "source": [
    "###GCAT\n",
    "gcat= data['experiments\\\\hyper_param_tuning_gcat']\n",
    "gcat_2 = data['experiments\\\\hyper_param_tuning_gcat_2']\n",
    "gcat_data_flt = gcat['res']\n",
    "gcat_data_flt= np.append(gcat_data_flt, gcat_2['res'], axis=0)\n",
    "gcat_data = utils.reshape_results(gcat_data_flt,len(F),len(L),len(K),efn=1)\n",
    "gcat_mean = np.nanmean(gcat_data_flt, axis=1)\n",
    "gcat_data_mean = np.nanmean(gcat_data,axis=3)\n",
    "gcat_best_ids = np.argsort(gcat_mean)[0:10]\n",
    "gcat_ids_unraveled = np.unravel_index(gcat_best_ids, (len(F),len(L),len(K)))\n",
    "plot_traces(gcat_data_flt[gcat_best_ids], '10 best GCAT traces')\n",
    "gcat_best_hp_list = np.array(gcat['hyperparam'])[gcat_best_ids.astype(int)].tolist()\n",
    "utils.save_hyperparamlist(gcat_best_hp_list, 'CE_hypertuning_GCAT')"
   ]
  },
  {
   "cell_type": "code",
   "execution_count": null,
   "metadata": {},
   "outputs": [],
   "source": [
    "###EdgeNet\n",
    "edgenet = data['experiments\\\\hyper_param_tuning_edgenet']\n",
    "edgenet_data_flt = edgenet['res']\n",
    "edgenet_data = utils.reshape_results(edgenet_data_flt,len(F),len(L),len(K),efn=1)\n",
    "edgenet_mean = np.nanmean(edgenet_data_flt, axis=1)\n",
    "edgenet_data_mean = np.nanmean(edgenet_data,axis=3)\n",
    "edgenet_best_ids = np.argsort(edgenet_mean)[0:10]\n",
    "edgenet_ids_unraveled = np.unravel_index(edgenet_best_ids, (len(F),len(L),len(K)))\n",
    "plot_traces(edgenet_data_flt[edgenet_best_ids], '10 best EdgeNet traces')\n",
    "edgenet_best_hp_list = np.array(edgenet['hyperparam'])[edgenet_best_ids.astype(int)].tolist()\n",
    "utils.save_hyperparamlist(edgenet_best_hp_list, 'CE_hypertuning_EdgeNet')"
   ]
  }
 ],
 "metadata": {
  "kernelspec": {
   "display_name": "Python 3",
   "language": "python",
   "name": "python3"
  },
  "language_info": {
   "codemirror_mode": {
    "name": "ipython",
    "version": 3
   },
   "file_extension": ".py",
   "mimetype": "text/x-python",
   "name": "python",
   "nbconvert_exporter": "python",
   "pygments_lexer": "ipython3",
   "version": "3.7.4"
  }
 },
 "nbformat": 4,
 "nbformat_minor": 4
}
