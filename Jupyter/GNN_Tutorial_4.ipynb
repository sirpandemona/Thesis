{
 "cells": [
  {
   "cell_type": "code",
   "execution_count": 1,
   "metadata": {
    "collapsed": false,
    "jupyter": {
     "outputs_hidden": false
    }
   },
   "outputs": [],
   "source": [
    "%matplotlib inline"
   ]
  },
  {
   "cell_type": "markdown",
   "metadata": {},
   "source": [
    "\n",
    ".. currentmodule:: dgl\n",
    "\n",
    "Tutorial: Batched graph classification with DGL\n",
    "================================================\n",
    "\n",
    "**Author**: `Mufei Li <https://github.com/mufeili>`_,\n",
    "`Minjie Wang <https://jermainewang.github.io/>`_,\n",
    "`Zheng Zhang <https://shanghai.nyu.edu/academics/faculty/directory/zheng-zhang>`_.\n",
    "\n",
    "In this tutorial, you learn how to use DGL to batch multiple graphs of variable size and shape. The \n",
    "tutorial also demonstrates training a graph neural network for a simple graph classification task.\n",
    "\n",
    "Graph classification is an important problem\n",
    "with applications across many fields, such as bioinformatics, chemoinformatics, social\n",
    "network analysis, urban computing, and cybersecurity. Applying graph neural\n",
    "networks to this problem has been a popular approach recently. This can be seen in the following reserach references: \n",
    "`Ying et al., 2018 <https://arxiv.org/abs/1806.08804>`_,\n",
    "`Cangea et al., 2018 <https://arxiv.org/abs/1811.01287>`_,\n",
    "`Knyazev et al., 2018 <https://arxiv.org/abs/1811.09595>`_,\n",
    "`Bianchi et al., 2019 <https://arxiv.org/abs/1901.01343>`_,\n",
    "`Liao et al., 2019 <https://arxiv.org/abs/1901.01484>`_,\n",
    "`Gao et al., 2019 <https://openreview.net/forum?id=HJePRoAct7>`_).\n"
   ]
  },
  {
   "cell_type": "markdown",
   "metadata": {},
   "source": [
    "Simple graph classification task\n",
    "--------------------------------\n",
    "In this tutorial, you learn how to perform batched graph classification\n",
    "with DGL. The example task objective is to classify eight types of topologies shown here.\n",
    "\n",
    "![](https://s3.us-east-2.amazonaws.com/dgl.ai/tutorial/batch/dataset_overview.png)\n",
    "\n",
    "    :align: center\n",
    "\n",
    "Implement a synthetic dataset :class:`data.MiniGCDataset` in DGL. The dataset has eight \n",
    "different types of graphs and each class has the same number of graph samples.\n",
    "\n"
   ]
  },
  {
   "cell_type": "code",
   "execution_count": 5,
   "metadata": {
    "collapsed": false,
    "jupyter": {
     "outputs_hidden": false
    }
   },
   "outputs": [
    {
     "data": {
      "image/png": "[encoded data removed]",
      "text/plain": [
       "<Figure size 432x288 with 1 Axes>"
      ]
     },
     "metadata": {},
     "output_type": "display_data"
    }
   ],
   "source": [
    "from dgl.data import MiniGCDataset\n",
    "import matplotlib.pyplot as plt\n",
    "import networkx as nx\n",
    "# A dataset with 80 samples, each graph is\n",
    "# of size [10, 20]\n",
    "dataset = MiniGCDataset(80, 10, 20)\n",
    "graph, label = dataset[6]\n",
    "fig, ax = plt.subplots()\n",
    "nx.draw(graph.to_networkx(), ax=ax)\n",
    "ax.set_title('Class: {:d}'.format(label))\n",
    "plt.show()"
   ]
  },
  {
   "cell_type": "markdown",
   "metadata": {},
   "source": [
    "Form a graph mini-batch\n",
    "-----------------------\n",
    "To train neural networks efficiently, a common practice is to batch\n",
    "multiple samples together to form a mini-batch. Batching fixed-shaped tensor\n",
    "inputs is common. For example, batching two images of size 28 x 28\n",
    "gives a tensor of shape 2 x 28 x 28. By contrast, batching graph inputs\n",
    "has two challenges:\n",
    "\n",
    "* Graphs are sparse.\n",
    "* Graphs can have various length. For example, number of nodes and edges.\n",
    "\n",
    "To address this, DGL provides a :func:`dgl.batch` API. It leverages the idea that\n",
    "a batch of graphs can be viewed as a large graph that has many disjointed \n",
    "connected components. Below is a visualization that gives the general idea.\n",
    "\n",
    "![](https://s3.us-east-2.amazonaws.com/dgl.ai/tutorial/batch/batch.png)\n",
    "\n",
    "    :width: 400pt\n",
    "    :align: center\n",
    "\n",
    "Define the following ``collate`` function to form a mini-batch from a given\n",
    "list of graph and label pairs.\n",
    "\n"
   ]
  },
  {
   "cell_type": "code",
   "execution_count": 3,
   "metadata": {
    "collapsed": false,
    "jupyter": {
     "outputs_hidden": false
    }
   },
   "outputs": [],
   "source": [
    "import dgl\n",
    "\n",
    "def collate(samples):\n",
    "    # The input `samples` is a list of pairs\n",
    "    #  (graph, label).\n",
    "    graphs, labels = map(list, zip(*samples))\n",
    "    batched_graph = dgl.batch(graphs)\n",
    "    return batched_graph, torch.tensor(labels)"
   ]
  },
  {
   "cell_type": "markdown",
   "metadata": {},
   "source": [
    "The return type of :func:`dgl.batch` is still a graph. In the same way, \n",
    "a batch of tensors is still a tensor. This means that any code that works\n",
    "for one graph immediately works for a batch of graphs. More importantly,\n",
    "because DGL processes messages on all nodes and edges in parallel, this greatly\n",
    "improves efficiency.\n",
    "\n",
    "Graph classifier\n",
    "----------------\n",
    "Graph classification proceeds as follows.\n",
    "\n",
    "![](https://s3.us-east-2.amazonaws.com/dgl.ai/tutorial/batch/graph_classifier.png)\n",
    "\n",
    "\n",
    "From a batch of graphs, perform message passing and graph convolution\n",
    "for nodes to communicate with others. After message passing, compute a\n",
    "tensor for graph representation from node (and edge) attributes. This step might \n",
    "be called readout or aggregation. Finally, the graph \n",
    "representations are fed into a classifier $g$ to predict the graph labels.\n",
    "\n",
    "Graph convolution\n",
    "-----------------\n",
    "The graph convolution operation is basically the same as that for graph convolutional network (GCN). To learn more, \n",
    "see the GCN `tutorial <https://docs.dgl.ai/tutorials/models/1_gnn/1_gcn.html>`_). The only difference is\n",
    "that we replace $h_{v}^{(l+1)} = \\text{ReLU}\\left(b^{(l)}+\\sum_{u\\in\\mathcal{N}(v)}h_{u}^{(l)}W^{(l)}\\right)$ \n",
    "by\n",
    "$h_{v}^{(l+1)} = \\text{ReLU}\\left(b^{(l)}+\\frac{1}{|\\mathcal{N}(v)|}\\sum_{u\\in\\mathcal{N}(v)}h_{u}^{(l)}W^{(l)}\\right)$\n",
    "\n",
    "The replacement of summation by average is to balance nodes with different\n",
    "degrees. This gives a better performance for this experiment.\n",
    "\n",
    "The self edges added in the dataset initialization allows you to\n",
    "include the original node feature $h_{v}^{(l)}$ when taking the average.\n",
    "\n"
   ]
  },
  {
   "cell_type": "code",
   "execution_count": 4,
   "metadata": {
    "collapsed": false,
    "jupyter": {
     "outputs_hidden": false
    }
   },
   "outputs": [],
   "source": [
    "import dgl.function as fn\n",
    "import torch\n",
    "import torch.nn as nn\n",
    "\n",
    "\n",
    "# Sends a message of node feature h.\n",
    "msg = fn.copy_src(src='h', out='m')\n",
    "\n",
    "def reduce(nodes):\n",
    "    \"\"\"Take an average over all neighbor node features hu and use it to\n",
    "    overwrite the original node feature.\"\"\"\n",
    "    accum = torch.mean(nodes.mailbox['m'], 1)\n",
    "    return {'h': accum}\n",
    "\n",
    "class NodeApplyModule(nn.Module):\n",
    "    \"\"\"Update the node feature hv with ReLU(Whv+b).\"\"\"\n",
    "    def __init__(self, in_feats, out_feats, activation):\n",
    "        super(NodeApplyModule, self).__init__()\n",
    "        self.linear = nn.Linear(in_feats, out_feats)\n",
    "        self.activation = activation\n",
    "\n",
    "    def forward(self, node):\n",
    "        h = self.linear(node.data['h'])\n",
    "        h = self.activation(h)\n",
    "        return {'h' : h}\n",
    "\n",
    "class GCN(nn.Module):\n",
    "    def __init__(self, in_feats, out_feats, activation):\n",
    "        super(GCN, self).__init__()\n",
    "        self.apply_mod = NodeApplyModule(in_feats, out_feats, activation)\n",
    "\n",
    "    def forward(self, g, feature):\n",
    "        # Initialize the node features with h.\n",
    "        g.ndata['h'] = feature\n",
    "        g.update_all(msg, reduce)\n",
    "        g.apply_nodes(func=self.apply_mod)\n",
    "        return g.ndata.pop('h')"
   ]
  },
  {
   "cell_type": "markdown",
   "metadata": {},
   "source": [
    "Readout and classification\n",
    "--------------------------\n",
    "For this demonstration, consider initial node features to be their degrees.\n",
    "After two rounds of graph convolution, perform a graph readout by averaging\n",
    "over all node features for each graph in the batch.\n",
    "\n",
    "\\begin{align}h_g=\\frac{1}{|\\mathcal{V}|}\\sum_{v\\in\\mathcal{V}}h_{v}\\end{align}\n",
    "\n",
    "In DGL, :func:`dgl.mean_nodes` handles this task for a batch of\n",
    "graphs with variable size. You then feed the graph representations into a\n",
    "classifier with one linear layer to obtain pre-softmax logits.\n",
    "\n"
   ]
  },
  {
   "cell_type": "code",
   "execution_count": 5,
   "metadata": {
    "collapsed": false,
    "jupyter": {
     "outputs_hidden": false
    }
   },
   "outputs": [],
   "source": [
    "import torch.nn.functional as F\n",
    "\n",
    "\n",
    "class Classifier(nn.Module):\n",
    "    def __init__(self, in_dim, hidden_dim, n_classes):\n",
    "        super(Classifier, self).__init__()\n",
    "\n",
    "        self.layers = nn.ModuleList([\n",
    "            GCN(in_dim, hidden_dim, F.relu),\n",
    "            GCN(hidden_dim, hidden_dim, F.relu)])\n",
    "        self.classify = nn.Linear(hidden_dim, n_classes)\n",
    "\n",
    "    def forward(self, g):\n",
    "        # For undirected graphs, in_degree is the same as\n",
    "        # out_degree.\n",
    "        h = g.in_degrees().view(-1, 1).float()\n",
    "        for conv in self.layers:\n",
    "            h = conv(g, h)\n",
    "        g.ndata['h'] = h\n",
    "        hg = dgl.mean_nodes(g, 'h')\n",
    "        return self.classify(hg)"
   ]
  },
  {
   "cell_type": "markdown",
   "metadata": {},
   "source": [
    "Setup and training\n",
    "------------------\n",
    "Create a synthetic dataset of $400$ graphs with $10$ ~\n",
    "$20$ nodes. $320$ graphs constitute a training set and\n",
    "$80$ graphs constitute a test set.\n",
    "\n"
   ]
  },
  {
   "cell_type": "code",
   "execution_count": 6,
   "metadata": {
    "collapsed": false,
    "jupyter": {
     "outputs_hidden": false
    }
   },
   "outputs": [
    {
     "name": "stdout",
     "output_type": "stream",
     "text": [
      "Epoch 0, loss 2.0290\n",
      "Epoch 1, loss 1.9559\n",
      "Epoch 2, loss 1.8613\n",
      "Epoch 3, loss 1.7901\n",
      "Epoch 4, loss 1.6979\n",
      "Epoch 5, loss 1.6218\n",
      "Epoch 6, loss 1.5654\n",
      "Epoch 7, loss 1.4883\n",
      "Epoch 8, loss 1.4063\n",
      "Epoch 9, loss 1.3459\n",
      "Epoch 10, loss 1.2688\n",
      "Epoch 11, loss 1.2351\n",
      "Epoch 12, loss 1.1938\n",
      "Epoch 13, loss 1.1612\n",
      "Epoch 14, loss 1.1299\n",
      "Epoch 15, loss 1.0966\n",
      "Epoch 16, loss 1.0568\n",
      "Epoch 17, loss 1.0630\n",
      "Epoch 18, loss 0.9937\n",
      "Epoch 19, loss 0.9835\n",
      "Epoch 20, loss 0.9718\n",
      "Epoch 21, loss 1.0049\n",
      "Epoch 22, loss 0.9322\n",
      "Epoch 23, loss 0.8979\n",
      "Epoch 24, loss 0.8926\n",
      "Epoch 25, loss 0.8776\n",
      "Epoch 26, loss 0.8982\n",
      "Epoch 27, loss 0.8552\n",
      "Epoch 28, loss 0.8162\n",
      "Epoch 29, loss 0.8279\n",
      "Epoch 30, loss 0.8069\n",
      "Epoch 31, loss 0.7772\n",
      "Epoch 32, loss 0.7674\n",
      "Epoch 33, loss 0.7638\n",
      "Epoch 34, loss 0.7715\n",
      "Epoch 35, loss 0.7430\n",
      "Epoch 36, loss 0.7435\n",
      "Epoch 37, loss 0.7253\n",
      "Epoch 38, loss 0.7002\n",
      "Epoch 39, loss 0.6970\n",
      "Epoch 40, loss 0.7102\n",
      "Epoch 41, loss 0.6784\n",
      "Epoch 42, loss 0.6776\n",
      "Epoch 43, loss 0.6832\n",
      "Epoch 44, loss 0.6458\n",
      "Epoch 45, loss 0.6417\n",
      "Epoch 46, loss 0.6155\n",
      "Epoch 47, loss 0.6062\n",
      "Epoch 48, loss 0.5969\n",
      "Epoch 49, loss 0.5855\n",
      "Epoch 50, loss 0.6038\n",
      "Epoch 51, loss 0.6028\n",
      "Epoch 52, loss 0.5584\n",
      "Epoch 53, loss 0.5775\n",
      "Epoch 54, loss 0.5789\n",
      "Epoch 55, loss 0.6146\n",
      "Epoch 56, loss 0.5402\n",
      "Epoch 57, loss 0.5447\n",
      "Epoch 58, loss 0.5167\n",
      "Epoch 59, loss 0.5371\n",
      "Epoch 60, loss 0.6142\n",
      "Epoch 61, loss 0.5255\n",
      "Epoch 62, loss 0.5402\n",
      "Epoch 63, loss 0.5193\n",
      "Epoch 64, loss 0.5013\n",
      "Epoch 65, loss 0.4861\n",
      "Epoch 66, loss 0.4752\n",
      "Epoch 67, loss 0.4763\n",
      "Epoch 68, loss 0.4529\n",
      "Epoch 69, loss 0.4698\n",
      "Epoch 70, loss 0.4754\n",
      "Epoch 71, loss 0.4587\n",
      "Epoch 72, loss 0.4686\n",
      "Epoch 73, loss 0.4653\n",
      "Epoch 74, loss 0.4522\n",
      "Epoch 75, loss 0.4318\n",
      "Epoch 76, loss 0.4322\n",
      "Epoch 77, loss 0.4436\n",
      "Epoch 78, loss 0.4232\n",
      "Epoch 79, loss 0.4136\n"
     ]
    }
   ],
   "source": [
    "import torch.optim as optim\n",
    "from torch.utils.data import DataLoader\n",
    "\n",
    "# Create training and test sets.\n",
    "trainset = MiniGCDataset(320, 10, 20)\n",
    "testset = MiniGCDataset(80, 10, 20)\n",
    "# Use PyTorch's DataLoader and the collate function\n",
    "# defined before.\n",
    "data_loader = DataLoader(trainset, batch_size=32, shuffle=True,\n",
    "                         collate_fn=collate)\n",
    "\n",
    "# Create model\n",
    "model = Classifier(1, 256, trainset.num_classes)\n",
    "loss_func = nn.CrossEntropyLoss()\n",
    "optimizer = optim.Adam(model.parameters(), lr=0.001)\n",
    "model.train()\n",
    "\n",
    "epoch_losses = []\n",
    "for epoch in range(80):\n",
    "    epoch_loss = 0\n",
    "    for iter, (bg, label) in enumerate(data_loader):\n",
    "        prediction = model(bg)\n",
    "        loss = loss_func(prediction, label)\n",
    "        optimizer.zero_grad()\n",
    "        loss.backward()\n",
    "        optimizer.step()\n",
    "        epoch_loss += loss.detach().item()\n",
    "    epoch_loss /= (iter + 1)\n",
    "    print('Epoch {}, loss {:.4f}'.format(epoch, epoch_loss))\n",
    "    epoch_losses.append(epoch_loss)"
   ]
  },
  {
   "cell_type": "markdown",
   "metadata": {},
   "source": [
    "The learning curve of a run is presented below.\n",
    "\n"
   ]
  },
  {
   "cell_type": "code",
   "execution_count": 7,
   "metadata": {
    "collapsed": false,
    "jupyter": {
     "outputs_hidden": false
    }
   },
   "outputs": [
    {
     "data": {
      "image/png": "[encoded data removed]",
      "text/plain": [
       "<Figure size 432x288 with 1 Axes>"
      ]
     },
     "metadata": {
      "needs_background": "light"
     },
     "output_type": "display_data"
    }
   ],
   "source": [
    "plt.title('cross entropy averaged over minibatches')\n",
    "plt.plot(epoch_losses)\n",
    "plt.show()"
   ]
  },
  {
   "cell_type": "markdown",
   "metadata": {},
   "source": [
    "The trained model is evaluated on the test set created. To deploy\n",
    "the tutorial, restrict the running time to get a higher\n",
    "accuracy ($80$ % ~ $90$ %) than the ones printed below.\n",
    "\n"
   ]
  },
  {
   "cell_type": "code",
   "execution_count": 8,
   "metadata": {
    "collapsed": false,
    "jupyter": {
     "outputs_hidden": false
    }
   },
   "outputs": [
    {
     "name": "stdout",
     "output_type": "stream",
     "text": [
      "Accuracy of sampled predictions on the test set: 68.7500%\n",
      "Accuracy of argmax predictions on the test set: 83.750000%\n"
     ]
    }
   ],
   "source": [
    "model.eval()\n",
    "# Convert a list of tuples to two lists\n",
    "test_X, test_Y = map(list, zip(*testset))\n",
    "test_bg = dgl.batch(test_X)\n",
    "test_Y = torch.tensor(test_Y).float().view(-1, 1)\n",
    "probs_Y = torch.softmax(model(test_bg), 1)\n",
    "sampled_Y = torch.multinomial(probs_Y, 1)\n",
    "argmax_Y = torch.max(probs_Y, 1)[1].view(-1, 1)\n",
    "print('Accuracy of sampled predictions on the test set: {:.4f}%'.format(\n",
    "    (test_Y == sampled_Y.float()).sum().item() / len(test_Y) * 100))\n",
    "print('Accuracy of argmax predictions on the test set: {:4f}%'.format(\n",
    "    (test_Y == argmax_Y.float()).sum().item() / len(test_Y) * 100))"
   ]
  },
  {
   "cell_type": "markdown",
   "metadata": {},
   "source": [
    "The animation here plots the probability that a trained model predicts the correct graph type.\n",
    "\n",
    "![](https://s3.us-east-2.amazonaws.com/dgl.ai/tutorial/batch/test_eval4.gif)\n",
    "\n",
    "\n",
    "To understand the node and graph representations that a trained model learned,\n",
    "we use `t-SNE, <https://lvdmaaten.github.io/tsne/>`_ for dimensionality reduction\n",
    "and visualization.\n",
    "\n",
    "![](https://s3.us-east-2.amazonaws.com/dgl.ai/tutorial/batch/tsne_node2.png)\n",
    "\n",
    "    :align: center\n",
    "\n",
    "![](https://s3.us-east-2.amazonaws.com/dgl.ai/tutorial/batch/tsne_graph2.png)\n",
    "\n",
    "    :align: center\n",
    "\n",
    "The two small figures on the top separately visualize node representations after one and two\n",
    "layers of graph convolution. The figure on the bottom visualizes\n",
    "the pre-softmax logits for graphs as graph representations.\n",
    "\n",
    "While the visualization does suggest some clustering effects of the node features,\n",
    "you would not expect a perfect result. Node degrees are deterministic for\n",
    "these node features. The graph features are improved when separated.\n",
    "\n",
    "What's next?\n",
    "------------\n",
    "Graph classification with graph neural networks is still a new field.\n",
    "It's waiting for people to bring more exciting discoveries. The work requires \n",
    "mapping different graphs to different embeddings, while preserving\n",
    "their structural similarity in the embedding space. To learn more about it, see \n",
    "`How Powerful Are Graph Neural Networks? <https://arxiv.org/abs/1810.00826>`_ a research paper  \n",
    "published for the International Conference on Learning Representations 2019.\n",
    "\n",
    "For more examples about batched graph processing, see the following:\n",
    "\n",
    "* Tutorials for `Tree LSTM <https://docs.dgl.ai/tutorials/models/2_small_graph/3_tree-lstm.html>`_ and `Deep Generative Models of Graphs <https://docs.dgl.ai/tutorials/models/3_generative_model/5_dgmg.html>`_\n",
    "* An example implementation of `Junction Tree VAE <https://github.com/dmlc/dgl/tree/master/examples/pytorch/jtnn>`_\n",
    "\n"
   ]
  }
 ],
 "metadata": {
  "kernelspec": {
   "display_name": "Python 3",
   "language": "python",
   "name": "python3"
  },
  "language_info": {
   "codemirror_mode": {
    "name": "ipython",
    "version": 3
   },
   "file_extension": ".py",
   "mimetype": "text/x-python",
   "name": "python",
   "nbconvert_exporter": "python",
   "pygments_lexer": "ipython3",
   "version": "3.7.4"
  }
 },
 "nbformat": 4,
 "nbformat_minor": 4
}
