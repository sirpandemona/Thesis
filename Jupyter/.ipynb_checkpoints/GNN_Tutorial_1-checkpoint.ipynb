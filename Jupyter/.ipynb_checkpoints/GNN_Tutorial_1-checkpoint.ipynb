{
  "cells": [
    {
      "cell_type": "code",
      "execution_count": null,
      "metadata": {
        "collapsed": false
      },
      "outputs": [],
      "source": [
        "%matplotlib inline"
      ]
    },
    {
      "cell_type": "markdown",
      "metadata": {},
      "source": [
        "\n.. currentmodule:: dgl\n\nDGL at a Glance\n=========================\n\n**Author**: `Minjie Wang <https://jermainewang.github.io/>`_, Quan Gan, `Jake\nZhao <https://cs.nyu.edu/~jakezhao/>`_, Zheng Zhang\n\nDGL is a Python package dedicated to deep learning on graphs, built atop\nexisting tensor DL frameworks (e.g. Pytorch, MXNet) and simplifying the\nimplementation of graph-based neural networks.\n\nThe goal of this tutorial:\n\n- Understand how DGL enables computation on graph from a high level.\n- Train a simple graph neural network in DGL to classify nodes in a graph.\n\nAt the end of this tutorial, we hope you get a brief feeling of how DGL works.\n\n*This tutorial assumes basic familiarity with pytorch.*\n"
      ]
    },
    {
      "cell_type": "markdown",
      "metadata": {},
      "source": [
        "Tutorial problem description\n----------------------------\n\nThe tutorial is based on the \"Zachary's karate club\" problem. The karate club\nis a social network that includes 34 members and documents pairwise links\nbetween members who interact outside the club.  The club later divides into\ntwo communities led by the instructor (node 0) and the club president (node\n33). The network is visualized as follows with the color indicating the\ncommunity:\n\n![](https://s3.us-east-2.amazonaws.com/dgl.ai/tutorial/img/karate-club.png)\n\n   :align: center\n\nThe task is to predict which side (0 or 33) each member tends to join given\nthe social network itself.\n\n"
      ]
    },
    {
      "cell_type": "markdown",
      "metadata": {},
      "source": [
        "Step 1: Creating a graph in DGL\n-------------------------------\nCreate the graph for Zachary's karate club as follows:\n\n"
      ]
    },
    {
      "cell_type": "code",
      "execution_count": null,
      "metadata": {
        "collapsed": false
      },
      "outputs": [],
      "source": [
        "import dgl\n\ndef build_karate_club_graph():\n    g = dgl.DGLGraph()\n    # add 34 nodes into the graph; nodes are labeled from 0~33\n    g.add_nodes(34)\n    # all 78 edges as a list of tuples\n    edge_list = [(1, 0), (2, 0), (2, 1), (3, 0), (3, 1), (3, 2),\n        (4, 0), (5, 0), (6, 0), (6, 4), (6, 5), (7, 0), (7, 1),\n        (7, 2), (7, 3), (8, 0), (8, 2), (9, 2), (10, 0), (10, 4),\n        (10, 5), (11, 0), (12, 0), (12, 3), (13, 0), (13, 1), (13, 2),\n        (13, 3), (16, 5), (16, 6), (17, 0), (17, 1), (19, 0), (19, 1),\n        (21, 0), (21, 1), (25, 23), (25, 24), (27, 2), (27, 23),\n        (27, 24), (28, 2), (29, 23), (29, 26), (30, 1), (30, 8),\n        (31, 0), (31, 24), (31, 25), (31, 28), (32, 2), (32, 8),\n        (32, 14), (32, 15), (32, 18), (32, 20), (32, 22), (32, 23),\n        (32, 29), (32, 30), (32, 31), (33, 8), (33, 9), (33, 13),\n        (33, 14), (33, 15), (33, 18), (33, 19), (33, 20), (33, 22),\n        (33, 23), (33, 26), (33, 27), (33, 28), (33, 29), (33, 30),\n        (33, 31), (33, 32)]\n    # add edges two lists of nodes: src and dst\n    src, dst = tuple(zip(*edge_list))\n    g.add_edges(src, dst)\n    # edges are directional in DGL; make them bi-directional\n    g.add_edges(dst, src)\n\n    return g"
      ]
    },
    {
      "cell_type": "markdown",
      "metadata": {},
      "source": [
        "Print out the number of nodes and edges in our newly constructed graph:\n\n"
      ]
    },
    {
      "cell_type": "code",
      "execution_count": null,
      "metadata": {
        "collapsed": false
      },
      "outputs": [],
      "source": [
        "G = build_karate_club_graph()\nprint('We have %d nodes.' % G.number_of_nodes())\nprint('We have %d edges.' % G.number_of_edges())"
      ]
    },
    {
      "cell_type": "markdown",
      "metadata": {},
      "source": [
        "Visualize the graph by converting it to a `networkx\n<https://networkx.github.io/documentation/stable/>`_ graph:\n\n"
      ]
    },
    {
      "cell_type": "code",
      "execution_count": null,
      "metadata": {
        "collapsed": false
      },
      "outputs": [],
      "source": [
        "import networkx as nx\n# Since the actual graph is undirected, we convert it for visualization\n# purpose.\nnx_G = G.to_networkx().to_undirected()\n# Kamada-Kawaii layout usually looks pretty for arbitrary graphs\npos = nx.kamada_kawai_layout(nx_G)\nnx.draw(nx_G, pos, with_labels=True, node_color=[[.7, .7, .7]])"
      ]
    },
    {
      "cell_type": "markdown",
      "metadata": {},
      "source": [
        "Step 2: Assign features to nodes or edges\n--------------------------------------------\nGraph neural networks associate features with nodes and edges for training.\nFor our classification example, we assign each node an input feature as a one-hot vector:\nnode $v_i$'s feature vector is $[0,\\ldots,1,\\dots,0]$,\nwhere the $i^{th}$ position is one.\n\nIn DGL, you can add features for all nodes at once, using a feature tensor that\nbatches node features along the first dimension. The code below adds the one-hot\nfeature for all nodes:\n\n"
      ]
    },
    {
      "cell_type": "code",
      "execution_count": null,
      "metadata": {
        "collapsed": false
      },
      "outputs": [],
      "source": [
        "import torch\n\nG.ndata['feat'] = torch.eye(34)"
      ]
    },
    {
      "cell_type": "markdown",
      "metadata": {},
      "source": [
        "Print out the node features to verify:\n\n"
      ]
    },
    {
      "cell_type": "code",
      "execution_count": null,
      "metadata": {
        "collapsed": false
      },
      "outputs": [],
      "source": [
        "# print out node 2's input feature\nprint(G.nodes[2].data['feat'])\n\n# print out node 10 and 11's input features\nprint(G.nodes[[10, 11]].data['feat'])"
      ]
    },
    {
      "cell_type": "markdown",
      "metadata": {},
      "source": [
        "Step 3: Define a Graph Convolutional Network (GCN)\n--------------------------------------------------\nTo perform node classification, use the Graph Convolutional Network\n(GCN) developed by `Kipf and Welling <https://arxiv.org/abs/1609.02907>`_. Here\nis the simplest definition of a GCN framework. We recommend that you \nread the original paper for more details.\n\n- At layer $l$, each node $v_i^l$ carries a feature vector $h_i^l$.\n- Each layer of the GCN tries to aggregate the features from $u_i^{l}$ where\n  $u_i$'s are neighborhood nodes to $v$ into the next layer representation at\n  $v_i^{l+1}$. This is followed by an affine transformation with some\n  non-linearity.\n\nThe above definition of GCN fits into a **message-passing** paradigm: Each\nnode will update its own feature with information sent from neighboring\nnodes. A graphical demonstration is displayed below.\n\n![mailbox](https://s3.us-east-2.amazonaws.com/dgl.ai/tutorial/1_first/mailbox.png)\n\nNow, we show that the GCN layer can be easily implemented in DGL.\n\n"
      ]
    },
    {
      "cell_type": "code",
      "execution_count": null,
      "metadata": {
        "collapsed": false
      },
      "outputs": [],
      "source": [
        "import torch.nn as nn\nimport torch.nn.functional as F\n\n# Define the message and reduce function\n# NOTE: We ignore the GCN's normalization constant c_ij for this tutorial.\ndef gcn_message(edges):\n    # The argument is a batch of edges.\n    # This computes a (batch of) message called 'msg' using the source node's feature 'h'.\n    return {'msg' : edges.src['h']}\n\ndef gcn_reduce(nodes):\n    # The argument is a batch of nodes.\n    # This computes the new 'h' features by summing received 'msg' in each node's mailbox.\n    return {'h' : torch.sum(nodes.mailbox['msg'], dim=1)}\n\n# Define the GCNLayer module\nclass GCNLayer(nn.Module):\n    def __init__(self, in_feats, out_feats):\n        super(GCNLayer, self).__init__()\n        self.linear = nn.Linear(in_feats, out_feats)\n\n    def forward(self, g, inputs):\n        # g is the graph and the inputs is the input node features\n        # first set the node features\n        g.ndata['h'] = inputs\n        # trigger message passing on all edges \n        g.send(g.edges(), gcn_message)\n        # trigger aggregation at all nodes\n        g.recv(g.nodes(), gcn_reduce)\n        # get the result node features\n        h = g.ndata.pop('h')\n        # perform linear transformation\n        return self.linear(h)"
      ]
    },
    {
      "cell_type": "markdown",
      "metadata": {},
      "source": [
        "In general, the nodes send information computed via the *message functions*,\nand aggregate incoming information with the *reduce functions*.\n\nDefine a deeper GCN model that contains two GCN layers:\n\n"
      ]
    },
    {
      "cell_type": "code",
      "execution_count": null,
      "metadata": {
        "collapsed": false
      },
      "outputs": [],
      "source": [
        "# Define a 2-layer GCN model\nclass GCN(nn.Module):\n    def __init__(self, in_feats, hidden_size, num_classes):\n        super(GCN, self).__init__()\n        self.gcn1 = GCNLayer(in_feats, hidden_size)\n        self.gcn2 = GCNLayer(hidden_size, num_classes)\n\n    def forward(self, g, inputs):\n        h = self.gcn1(g, inputs)\n        h = torch.relu(h)\n        h = self.gcn2(g, h)\n        return h\n# The first layer transforms input features of size of 34 to a hidden size of 5.\n# The second layer transforms the hidden layer and produces output features of\n# size 2, corresponding to the two groups of the karate club.\nnet = GCN(34, 5, 2)"
      ]
    },
    {
      "cell_type": "markdown",
      "metadata": {},
      "source": [
        "Step 4: Data preparation and initialization\n-------------------------------------------\n\nWe use one-hot vectors to initialize the node features. Since this is a\nsemi-supervised setting, only the instructor (node 0) and the club president\n(node 33) are assigned labels. The implementation is available as follow.\n\n"
      ]
    },
    {
      "cell_type": "code",
      "execution_count": null,
      "metadata": {
        "collapsed": false
      },
      "outputs": [],
      "source": [
        "inputs = torch.eye(34)\nlabeled_nodes = torch.tensor([0, 33])  # only the instructor and the president nodes are labeled\nlabels = torch.tensor([0, 1])  # their labels are different"
      ]
    },
    {
      "cell_type": "markdown",
      "metadata": {},
      "source": [
        "Step 5: Train then visualize\n----------------------------\nThe training loop is exactly the same as other PyTorch models.\nWe (1) create an optimizer, (2) feed the inputs to the model,\n(3) calculate the loss and (4) use autograd to optimize the model.\n\n"
      ]
    },
    {
      "cell_type": "code",
      "execution_count": null,
      "metadata": {
        "collapsed": false
      },
      "outputs": [],
      "source": [
        "optimizer = torch.optim.Adam(net.parameters(), lr=0.01)\nall_logits = []\nfor epoch in range(30):\n    logits = net(G, inputs)\n    # we save the logits for visualization later\n    all_logits.append(logits.detach())\n    logp = F.log_softmax(logits, 1)\n    # we only compute loss for labeled nodes\n    loss = F.nll_loss(logp[labeled_nodes], labels)\n\n    optimizer.zero_grad()\n    loss.backward()\n    optimizer.step()\n\n    print('Epoch %d | Loss: %.4f' % (epoch, loss.item()))"
      ]
    },
    {
      "cell_type": "markdown",
      "metadata": {},
      "source": [
        "This is a rather toy example, so it does not even have a validation or test\nset. Instead, Since the model produces an output feature of size 2 for each node, we can\nvisualize by plotting the output feature in a 2D space.\nThe following code animates the training process from initial guess\n(where the nodes are not classified correctly at all) to the end\n(where the nodes are linearly separable).\n\n"
      ]
    },
    {
      "cell_type": "code",
      "execution_count": null,
      "metadata": {
        "collapsed": false
      },
      "outputs": [],
      "source": [
        "import matplotlib.animation as animation\nimport matplotlib.pyplot as plt\n\ndef draw(i):\n    cls1color = '#00FFFF'\n    cls2color = '#FF00FF'\n    pos = {}\n    colors = []\n    for v in range(34):\n        pos[v] = all_logits[i][v].numpy()\n        cls = pos[v].argmax()\n        colors.append(cls1color if cls else cls2color)\n    ax.cla()\n    ax.axis('off')\n    ax.set_title('Epoch: %d' % i)\n    nx.draw_networkx(nx_G.to_undirected(), pos, node_color=colors,\n            with_labels=True, node_size=300, ax=ax)\n\nfig = plt.figure(dpi=150)\nfig.clf()\nax = fig.subplots()\ndraw(0)  # draw the prediction of the first epoch\nplt.close()"
      ]
    },
    {
      "cell_type": "markdown",
      "metadata": {},
      "source": [
        "![](https://s3.us-east-2.amazonaws.com/dgl.ai/tutorial/1_first/karate0.png)\n\n   :height: 300px\n   :width: 400px\n   :align: center\n\n"
      ]
    },
    {
      "cell_type": "markdown",
      "metadata": {},
      "source": [
        "The following animation shows how the model correctly predicts the community\nafter a series of training epochs.\n\n"
      ]
    },
    {
      "cell_type": "code",
      "execution_count": null,
      "metadata": {
        "collapsed": false
      },
      "outputs": [],
      "source": [
        "ani = animation.FuncAnimation(fig, draw, frames=len(all_logits), interval=200)"
      ]
    },
    {
      "cell_type": "markdown",
      "metadata": {},
      "source": [
        "![](https://s3.us-east-2.amazonaws.com/dgl.ai/tutorial/1_first/karate.gif)\n\n   :height: 300px\n   :width: 400px\n   :align: center\n\n"
      ]
    },
    {
      "cell_type": "markdown",
      "metadata": {},
      "source": [
        "Next steps\n----------\n\nIn the :doc:`next tutorial <2_basics>`, we will go through some more basics\nof DGL, such as reading and writing node/edge features.\n\n"
      ]
    }
  ],
  "metadata": {
    "kernelspec": {
      "display_name": "Python 3",
      "language": "python",
      "name": "python3"
    },
    "language_info": {
      "codemirror_mode": {
        "name": "ipython",
        "version": 3
      },
      "file_extension": ".py",
      "mimetype": "text/x-python",
      "name": "python",
      "nbconvert_exporter": "python",
      "pygments_lexer": "ipython3",
      "version": "3.7.3"
    }
  },
  "nbformat": 4,
  "nbformat_minor": 0
}