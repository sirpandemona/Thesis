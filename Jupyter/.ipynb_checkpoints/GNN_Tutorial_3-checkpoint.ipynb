{
  "cells": [
    {
      "cell_type": "code",
      "execution_count": null,
      "metadata": {
        "collapsed": false
      },
      "outputs": [],
      "source": [
        "%matplotlib inline"
      ]
    },
    {
      "cell_type": "markdown",
      "metadata": {},
      "source": [
        "\n.. currentmodule:: dgl\n\nPageRank with DGL message passing\n=================================\n\n**Author**: `Minjie Wang <https://jermainewang.github.io/>`_, Quan Gan, Yu Gai,\nZheng Zhang\n\nIn this tutorial, you learn how to use different levels of the message\npassing API with PageRank on a small graph. In DGL, the message passing and\nfeature transformations are **user-defined functions** (UDFs).\n"
      ]
    },
    {
      "cell_type": "markdown",
      "metadata": {},
      "source": [
        "The PageRank algorithm\n----------------------\nIn each iteration of PageRank, every node (web page) first scatters its\nPageRank value uniformly to its downstream nodes. The new PageRank value of\neach node is computed by aggregating the received PageRank values from its\nneighbors, which is then adjusted by the damping factor:\n\n\\begin{align}PV(u) = \\frac{1-d}{N} + d \\times \\sum_{v \\in \\mathcal{N}(u)}\n   \\frac{PV(v)}{D(v)}\\end{align}\n\nwhere $N$ is the number of nodes in the graph; $D(v)$ is the\nout-degree of a node $v$; and $\\mathcal{N}(u)$ is the neighbor\nnodes.\n\n"
      ]
    },
    {
      "cell_type": "markdown",
      "metadata": {},
      "source": [
        "A naive implementation\n----------------------\nCreate a graph with 100 nodes by using ``networkx`` and then convert it to a\n:class:`DGLGraph`.\n\n"
      ]
    },
    {
      "cell_type": "code",
      "execution_count": null,
      "metadata": {
        "collapsed": false
      },
      "outputs": [],
      "source": [
        "import networkx as nx\nimport matplotlib.pyplot as plt\nimport torch\nimport dgl\n\nN = 100  # number of nodes\nDAMP = 0.85  # damping factor\nK = 10  # number of iterations\ng = nx.nx.erdos_renyi_graph(N, 0.1)\ng = dgl.DGLGraph(g)\nnx.draw(g.to_networkx(), node_size=50, node_color=[[.5, .5, .5,]])\nplt.show()"
      ]
    },
    {
      "cell_type": "markdown",
      "metadata": {},
      "source": [
        "According to the algorithm, PageRank consists of two phases in a typical\nscatter-gather pattern. Initialize the PageRank value of each node\nto $\\frac{1}{N}$ and then store each node's out-degree as a node feature.\n\n"
      ]
    },
    {
      "cell_type": "code",
      "execution_count": null,
      "metadata": {
        "collapsed": false
      },
      "outputs": [],
      "source": [
        "g.ndata['pv'] = torch.ones(N) / N\ng.ndata['deg'] = g.out_degrees(g.nodes()).float()"
      ]
    },
    {
      "cell_type": "markdown",
      "metadata": {},
      "source": [
        "Define the message function, which divides every node's PageRank\nvalue by its out-degree and passes the result as message to its neighbors.\n\n"
      ]
    },
    {
      "cell_type": "code",
      "execution_count": null,
      "metadata": {
        "collapsed": false
      },
      "outputs": [],
      "source": [
        "def pagerank_message_func(edges):\n    return {'pv' : edges.src['pv'] / edges.src['deg']}"
      ]
    },
    {
      "cell_type": "markdown",
      "metadata": {},
      "source": [
        "In DGL, the message functions are expressed as **Edge UDFs**.  Edge UDFs\ntake in a single argument ``edges``.  It has three members ``src``, ``dst``,\nand ``data`` for accessing source node features, destination node features,\nand edge features.  Here, the function computes messages only\nfrom source node features.\n\nDefine the reduce function, which removes and aggregates the\nmessages from its ``mailbox``, and computes its new PageRank value.\n\n"
      ]
    },
    {
      "cell_type": "code",
      "execution_count": null,
      "metadata": {
        "collapsed": false
      },
      "outputs": [],
      "source": [
        "def pagerank_reduce_func(nodes):\n    msgs = torch.sum(nodes.mailbox['pv'], dim=1)\n    pv = (1 - DAMP) / N + DAMP * msgs\n    return {'pv' : pv}"
      ]
    },
    {
      "cell_type": "markdown",
      "metadata": {},
      "source": [
        "The reduce functions are **Node UDFs**.  Node UDFs have a single argument\n``nodes``, which has two members ``data`` and ``mailbox``.  ``data``\ncontains the node features and ``mailbox`` contains all incoming message\nfeatures, stacked along the second dimension (hence the ``dim=1`` argument).\n\nThe message UDF works on a batch of edges, whereas the reduce UDF works on\na batch of edges but outputs a batch of nodes. Their relationships are as\nfollows:\n\n![](https://i.imgur.com/kIMiuFb.png)\n\n\nRegister the message function and reduce function, which will be called\nlater by DGL.\n\n"
      ]
    },
    {
      "cell_type": "code",
      "execution_count": null,
      "metadata": {
        "collapsed": false
      },
      "outputs": [],
      "source": [
        "g.register_message_func(pagerank_message_func)\ng.register_reduce_func(pagerank_reduce_func)"
      ]
    },
    {
      "cell_type": "markdown",
      "metadata": {},
      "source": [
        "The algorithm is straightforward. Here is the code for one\nPageRank iteration.\n\n"
      ]
    },
    {
      "cell_type": "code",
      "execution_count": null,
      "metadata": {
        "collapsed": false
      },
      "outputs": [],
      "source": [
        "def pagerank_naive(g):\n    # Phase #1: send out messages along all edges.\n    for u, v in zip(*g.edges()):\n        g.send((u, v))\n    # Phase #2: receive messages to compute new PageRank values.\n    for v in g.nodes():\n        g.recv(v)"
      ]
    },
    {
      "cell_type": "markdown",
      "metadata": {},
      "source": [
        "Batching semantics for a large graph\n------------------------------------\nThe above code does not scale to a large graph because it iterates over all\nthe nodes. DGL solves this by allowing you to compute on a *batch* of nodes or\nedges. For example, the following codes trigger message and reduce functions\non multiple nodes and edges at one time.\n\n"
      ]
    },
    {
      "cell_type": "code",
      "execution_count": null,
      "metadata": {
        "collapsed": false
      },
      "outputs": [],
      "source": [
        "def pagerank_batch(g):\n    g.send(g.edges())\n    g.recv(g.nodes())"
      ]
    },
    {
      "cell_type": "markdown",
      "metadata": {},
      "source": [
        "You are still using the same reduce function ``pagerank_reduce_func``,\nwhere ``nodes.mailbox['pv']`` is a *single* tensor, stacking the incoming\nmessages along the second dimension.\n\nYou might wonder if this is even possible to perform reduce on all\nnodes in parallel, since each node may have different number of incoming\nmessages and you cannot really \"stack\" tensors of different lengths together.\nIn general, DGL solves the problem by grouping the nodes by the number of\nincoming messages, and calling the reduce function for each group.\n\n"
      ]
    },
    {
      "cell_type": "markdown",
      "metadata": {},
      "source": [
        "Use higher-level APIs for efficiency\n---------------------------------------\nDGL provides many routines that combine basic ``send`` and ``recv`` in\nvarious ways. These routines are called **level-2 APIs**. For example, the next code example\nshows how to further simplify the PageRank example with such an API.\n\n"
      ]
    },
    {
      "cell_type": "code",
      "execution_count": null,
      "metadata": {
        "collapsed": false
      },
      "outputs": [],
      "source": [
        "def pagerank_level2(g):\n    g.update_all()"
      ]
    },
    {
      "cell_type": "markdown",
      "metadata": {},
      "source": [
        "In addition to ``update_all``, you can use ``pull``, ``push``, and ``send_and_recv``\nin this level-2 category. For more information, see :doc:`API reference <../../api/python/graph>`.\n\n"
      ]
    },
    {
      "cell_type": "markdown",
      "metadata": {},
      "source": [
        "Use DGL ``builtin`` functions for efficiency\n------------------------------------------------\nSome of the message and reduce functions are used frequently. For this reason, DGL also\nprovides ``builtin`` functions. For example, two ``builtin`` functions can be\nused in the PageRank example.\n\n* :func:`dgl.function.copy_src(src, out) <function.copy_src>` - This\n  code example is an edge UDF that computes the\n  output using the source node feature data. To use this, specify the name of\n  the source feature data (``src``) and the output name (``out``).\n\n* :func:`dgl.function.sum(msg, out) <function.sum>` - This code example is a node UDF\n  that sums the messages in\n  the node's mailbox. To use this, specify the message name (``msg``) and the\n  output name (``out``).\n\nThe following PageRank example shows such functions.\n\n"
      ]
    },
    {
      "cell_type": "code",
      "execution_count": null,
      "metadata": {
        "collapsed": false
      },
      "outputs": [],
      "source": [
        "import dgl.function as fn\n\ndef pagerank_builtin(g):\n    g.ndata['pv'] = g.ndata['pv'] / g.ndata['deg']\n    g.update_all(message_func=fn.copy_src(src='pv', out='m'),\n                 reduce_func=fn.sum(msg='m',out='m_sum'))\n    g.ndata['pv'] = (1 - DAMP) / N + DAMP * g.ndata['m_sum']"
      ]
    },
    {
      "cell_type": "markdown",
      "metadata": {},
      "source": [
        "In the previous example code, you directly provide the UDFs to the :func:`update_all <DGLGraph.update_all>`\nas its arguments.\nThis will override the previously registered UDFs.\n\nIn addition to cleaner code, using ``builtin`` functions also gives DGL the\nopportunity to fuse operations together. This results in faster execution.  For\nexample, DGL will fuse the ``copy_src`` message function and ``sum`` reduce\nfunction into one sparse matrix-vector (spMV) multiplication.\n\n`The following section <spmv_>`_ describes why spMV can speed up the scatter-gather\nphase in PageRank.  For more details about the ``builtin`` functions in DGL,\nsee :doc:`API reference <../../api/python/function>`.\n\nYou can also download and run the different code examples to see the differences.\n\n"
      ]
    },
    {
      "cell_type": "code",
      "execution_count": null,
      "metadata": {
        "collapsed": false
      },
      "outputs": [],
      "source": [
        "for k in range(K):\n    # Uncomment the corresponding line to select different version.\n    # pagerank_naive(g)\n    # pagerank_batch(g)\n    # pagerank_level2(g)\n    pagerank_builtin(g)\nprint(g.ndata['pv'])"
      ]
    },
    {
      "cell_type": "markdown",
      "metadata": {},
      "source": [
        "\nUsing spMV for PageRank\n-----------------------\nUsing ``builtin`` functions allows DGL to understand the semantics of UDFs.\nThis allows you to create an efficient implementation. For example, in the case\nof PageRank, one common method to accelerate it is by using its linear algebra\nform.\n\n\\begin{align}\\mathbf{R}^{k} = \\frac{1-d}{N} \\mathbf{1} + d \\mathbf{A}*\\mathbf{R}^{k-1}\\end{align}\n\nHere, $\\mathbf{R}^k$ is the vector of the PageRank values of all nodes\nat iteration $k$; $\\mathbf{A}$ is the sparse adjacency matrix\nof the graph.\nComputing this equation is quite efficient because there is an efficient\nGPU kernel for the sparse matrix-vector multiplication (spMV). DGL\ndetects whether such optimization is available through the ``builtin``\nfunctions. If a certain combination of ``builtin`` can be mapped to an spMV\nkernel (e.g., the PageRank example), DGL uses it automatically. We recommend \nusing ``builtin`` functions whenever possible.\n\n"
      ]
    },
    {
      "cell_type": "markdown",
      "metadata": {},
      "source": [
        "Next steps\n----------\n\n* Learn how to use DGL (:doc:`builtin functions<../../features/builtin>`) to write \n  more efficient message passing.\n* To see model tutorials, see the :doc:`overview page<../models/index>`.\n* To learn about Graph Neural Networks, see :doc:`GCN tutorial<../models/1_gnn/1_gcn>`.\n* To see how DGL batches multiple graphs, see :doc:`TreeLSTM tutorial<../models/2_small_graph/3_tree-lstm>`.\n* Play with some graph generative models by following tutorial for :doc:`Deep Generative Model of Graphs<../models/3_generative_model/5_dgmg>`.\n* To learn how traditional models are interpreted in a view of graph, see \n  the tutorials on :doc:`CapsuleNet<../models/4_old_wines/2_capsule>` and\n  :doc:`Transformer<../models/4_old_wines/7_transformer>`.\n\n"
      ]
    }
  ],
  "metadata": {
    "kernelspec": {
      "display_name": "Python 3",
      "language": "python",
      "name": "python3"
    },
    "language_info": {
      "codemirror_mode": {
        "name": "ipython",
        "version": 3
      },
      "file_extension": ".py",
      "mimetype": "text/x-python",
      "name": "python",
      "nbconvert_exporter": "python",
      "pygments_lexer": "ipython3",
      "version": "3.7.3"
    }
  },
  "nbformat": 4,
  "nbformat_minor": 0
}